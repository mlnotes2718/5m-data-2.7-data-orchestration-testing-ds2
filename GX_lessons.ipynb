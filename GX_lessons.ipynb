{
 "cells": [
  {
   "cell_type": "markdown",
   "id": "9f25b210-4695-45ea-b251-d4f50c32b186",
   "metadata": {},
   "source": [
    "# Great Expectations"
   ]
  },
  {
   "cell_type": "markdown",
   "id": "98386f35-7138-4df9-9dee-fbaae795d009",
   "metadata": {},
   "source": [
    "This lesson uses the new great expectations (at this point of writing, it is 1.3.9) "
   ]
  },
  {
   "cell_type": "markdown",
   "id": "8b40532c-9117-44a5-84bb-4aa64e503e95",
   "metadata": {},
   "source": [
    "# Data Context \n",
    "\n",
    "Document: https://docs.greatexpectations.io/docs/core/set_up_a_gx_environment/create_a_data_context"
   ]
  },
  {
   "cell_type": "markdown",
   "id": "fffef126-be35-4137-a769-802ec375f243",
   "metadata": {},
   "source": [
    "> A Data Context defines the storage location for metadata, such as your configurations for Data Sources, Expectation Suites, Checkpoints, and Data Docs. It also contains your Validation Results and the metrics associated with them, and it provides access to those objects in Python, along with other helper functions for the GX Python API.\n",
    "\n",
    "> All scripts that utilize GX Core should start with the creation of a Data Context.\n",
    "\n"
   ]
  },
  {
   "cell_type": "code",
   "execution_count": 1,
   "id": "09f873d7-a75d-411d-ac00-468cf1821bb5",
   "metadata": {},
   "outputs": [],
   "source": [
    "import pandas as pd\n",
    "import great_expectations as gx\n",
    "from great_expectations import expectations as gxe\n",
    "\n",
    "context = gx.get_context()"
   ]
  },
  {
   "cell_type": "markdown",
   "id": "d2984217-ea5b-418e-96d1-4b62c32848bd",
   "metadata": {},
   "source": [
    "# Connecting to Data File: Data Source\n",
    "\n",
    "Data Sources tell GX where your data is located and how to connect to it. With Filesystem data this is done by directing GX to the folder or online location that contains the data files. GX supports accessing Filesystem data from Amazon S3, Azure Blob Storage, Google Cloud Storage, and local or networked filesystems.\n",
    "\n"
   ]
  },
  {
   "cell_type": "markdown",
   "id": "c303b32d-a5f1-4ecf-a6bf-0082a33b31e2",
   "metadata": {},
   "source": [
    "Document: https://docs.greatexpectations.io/docs/core/connect_to_data/filesystem_data/"
   ]
  },
  {
   "cell_type": "code",
   "execution_count": 2,
   "id": "6c4b0708-1a6e-4bdb-a76a-0ff4d186959f",
   "metadata": {},
   "outputs": [],
   "source": [
    "source_folder = \"data/\"\n",
    "data_source_name = \"resale_flat\""
   ]
  },
  {
   "cell_type": "code",
   "execution_count": 3,
   "id": "1e9c023c-e3b5-4b2f-a9dc-d18e7ae12b35",
   "metadata": {},
   "outputs": [],
   "source": [
    "data_source = context.data_sources.add_pandas_filesystem(\n",
    "    name=data_source_name, \n",
    "    base_directory=source_folder\n",
    ")"
   ]
  },
  {
   "cell_type": "markdown",
   "id": "787b87a2-85d6-49b9-99f2-9e8d0d8347aa",
   "metadata": {},
   "source": [
    "## Data Assets\n",
    "\n",
    "A Data Asset is a collection of related records within a Data Source. These records may be located within multiple files, but each Data Asset is only capable of reading a single specific file format which is determined when it is created. However, a Data Source may contain multiple Data Assets covering different file formats and groups of records.\n",
    "\n",
    "GX provides two types of Data Assets for Filesystem Data Sources: File Data Assets and Directory Data Assets.\n",
    "\n"
   ]
  },
  {
   "cell_type": "markdown",
   "id": "2b5be053-bde8-4973-9adc-0a0f22edb6e0",
   "metadata": {},
   "source": [
    "Documentation: https://docs.greatexpectations.io/docs/core/connect_to_data/filesystem_data/?data_asset=file#create-a-data-asset"
   ]
  },
  {
   "cell_type": "code",
   "execution_count": 4,
   "id": "176e6bb1-6bf1-43b3-9739-23678a0ca4be",
   "metadata": {},
   "outputs": [],
   "source": [
    "# we can retrieve as well\n",
    "data_source = context.data_sources.get(data_source_name)"
   ]
  },
  {
   "cell_type": "code",
   "execution_count": 5,
   "id": "71aad415-f293-4ae7-890b-37fa6b342a50",
   "metadata": {},
   "outputs": [],
   "source": [
    "asset_name = \"resale_csv_files\""
   ]
  },
  {
   "cell_type": "code",
   "execution_count": 6,
   "id": "36421e11-4a5d-47ec-8a11-c6241c0a0118",
   "metadata": {},
   "outputs": [],
   "source": [
    "file_csv_asset = data_source.add_csv_asset(name=asset_name)"
   ]
  },
  {
   "cell_type": "markdown",
   "id": "c2bb57c7-ac15-4241-a990-ff7e9a7bbc24",
   "metadata": {},
   "source": [
    "##  Create a Batch Definition\n",
    "\n",
    "A Batch Definition allows you to request all the records from a Data Asset or a subset based on the contents of a date and time field.\n",
    "\n"
   ]
  },
  {
   "cell_type": "code",
   "execution_count": 7,
   "id": "f877b708-7d1a-4884-ae4c-31232f077655",
   "metadata": {},
   "outputs": [],
   "source": [
    "# we can retrive \n",
    "file_data_asset = context.data_sources.get(data_source_name).get_asset(asset_name)"
   ]
  },
  {
   "cell_type": "code",
   "execution_count": 8,
   "id": "17fd10ec-7976-4cf4-9a50-660ac8eda260",
   "metadata": {},
   "outputs": [],
   "source": [
    "batch_definition_name = \"resale_flat_201701_202306.csv\"\n",
    "batch_definition_path = \"resale_flat_201701_202306.csv\"\n",
    "\n",
    "batch_definition = file_data_asset.add_batch_definition_path(\n",
    "    name=batch_definition_name, path=batch_definition_path\n",
    ")"
   ]
  },
  {
   "cell_type": "code",
   "execution_count": 9,
   "id": "309d649b-f459-4021-bc2d-65519416f682",
   "metadata": {},
   "outputs": [],
   "source": [
    "batch = batch_definition.get_batch()"
   ]
  },
  {
   "cell_type": "code",
   "execution_count": 10,
   "id": "7653b646-9fda-4f97-ad3c-cf19bf5cd22d",
   "metadata": {},
   "outputs": [
    {
     "data": {
      "application/vnd.jupyter.widget-view+json": {
       "model_id": "7481448332a74513b7695e42fe6b0e86",
       "version_major": 2,
       "version_minor": 0
      },
      "text/plain": [
       "Calculating Metrics:   0%|          | 0/1 [00:00<?, ?it/s]"
      ]
     },
     "metadata": {},
     "output_type": "display_data"
    },
    {
     "name": "stdout",
     "output_type": "stream",
     "text": [
      "     month        town flat_type block        street_name storey_range  \\\n",
      "0  2017-01  ANG MO KIO    2 ROOM   406  ANG MO KIO AVE 10     10 TO 12   \n",
      "1  2017-01  ANG MO KIO    3 ROOM   108   ANG MO KIO AVE 4     01 TO 03   \n",
      "2  2017-01  ANG MO KIO    3 ROOM   602   ANG MO KIO AVE 5     01 TO 03   \n",
      "3  2017-01  ANG MO KIO    3 ROOM   465  ANG MO KIO AVE 10     04 TO 06   \n",
      "\n",
      "   floor_area_sqm      flat_model  lease_commence_date     remaining_lease  \\\n",
      "0            44.0        Improved                 1979  61 years 04 months   \n",
      "1            67.0  New Generation                 1978  60 years 07 months   \n",
      "2            67.0  New Generation                 1980  62 years 05 months   \n",
      "3            68.0  New Generation                 1980   62 years 01 month   \n",
      "\n",
      "   resale_price  \n",
      "0      232000.0  \n",
      "1      250000.0  \n",
      "2      262000.0  \n",
      "3      265000.0  \n"
     ]
    }
   ],
   "source": [
    "print(batch.head(4))"
   ]
  },
  {
   "cell_type": "markdown",
   "id": "135991c9-cc32-4dc3-a698-b0f202e277d7",
   "metadata": {},
   "source": [
    "# Create the \"expectations\"\n",
    "\n",
    "Document: https://docs.greatexpectations.io/docs/core/define_expectations/organize_expectation_suites"
   ]
  },
  {
   "cell_type": "code",
   "execution_count": 11,
   "id": "ba703db1-a119-4c33-b334-c3b3df3a012a",
   "metadata": {},
   "outputs": [],
   "source": [
    "preset_expectation = gx.expectations.ExpectColumnMaxToBeBetween(\n",
    "    column=\"lease_commence_date\", min_value=1, max_value=2020\n",
    ")"
   ]
  },
  {
   "cell_type": "code",
   "execution_count": 12,
   "id": "ca033e4f-239c-43aa-8590-ec92390dfe61",
   "metadata": {},
   "outputs": [
    {
     "data": {
      "application/vnd.jupyter.widget-view+json": {
       "model_id": "01cd00cedd304998883fed90d13a1398",
       "version_major": 2,
       "version_minor": 0
      },
      "text/plain": [
       "Calculating Metrics:   0%|          | 0/4 [00:00<?, ?it/s]"
      ]
     },
     "metadata": {},
     "output_type": "display_data"
    }
   ],
   "source": [
    "validation_results = batch.validate(preset_expectation)"
   ]
  },
  {
   "cell_type": "code",
   "execution_count": 13,
   "id": "fe77b1de-84e6-439c-992a-184c60ea1d20",
   "metadata": {},
   "outputs": [
    {
     "name": "stdout",
     "output_type": "stream",
     "text": [
      "{\n",
      "  \"success\": true,\n",
      "  \"expectation_config\": {\n",
      "    \"type\": \"expect_column_max_to_be_between\",\n",
      "    \"kwargs\": {\n",
      "      \"batch_id\": \"resale_flat-resale_csv_files\",\n",
      "      \"column\": \"lease_commence_date\",\n",
      "      \"min_value\": 1.0,\n",
      "      \"max_value\": 2020.0\n",
      "    },\n",
      "    \"meta\": {}\n",
      "  },\n",
      "  \"result\": {\n",
      "    \"observed_value\": 2019\n",
      "  },\n",
      "  \"meta\": {},\n",
      "  \"exception_info\": {\n",
      "    \"raised_exception\": false,\n",
      "    \"exception_traceback\": null,\n",
      "    \"exception_message\": null\n",
      "  }\n",
      "}\n"
     ]
    }
   ],
   "source": [
    "print(validation_results)"
   ]
  },
  {
   "cell_type": "markdown",
   "id": "992fc7eb-4ff9-4080-bf48-74717303d1fa",
   "metadata": {},
   "source": [
    "You can create expectations into a suite of expectations \n",
    "\n",
    "> An Expectation Suite contains a group of Expectations that describe the same set of data. Combining all the Expectations that you apply to a given set of data into an Expectation Suite allows you to evaluate them as a group, rather than individually. All of the Expectations that you use to validate your data in production workflows should be grouped into Expectation Suites.\n",
    "\n"
   ]
  },
  {
   "cell_type": "code",
   "execution_count": 14,
   "id": "fcc86b9b-75be-4c7b-ae38-3f7e7034ad76",
   "metadata": {},
   "outputs": [],
   "source": [
    "suite_name = \"sctp_expectation_suite\"\n",
    "suite = gx.ExpectationSuite(name=suite_name)"
   ]
  },
  {
   "cell_type": "code",
   "execution_count": 15,
   "id": "ad840e5d-505d-46d4-b6ab-501bce08aa17",
   "metadata": {},
   "outputs": [],
   "source": [
    "suite = context.suites.add(suite)"
   ]
  },
  {
   "cell_type": "code",
   "execution_count": 16,
   "id": "9ccb9c79-948e-480d-8320-c2277ad443c7",
   "metadata": {},
   "outputs": [
    {
     "data": {
      "text/plain": [
       "ExpectColumnMaxToBeBetween(id='61ec4e75-b86d-4f85-9661-d519994c4daa', meta=None, notes=None, result_format=<ResultFormat.BASIC: 'BASIC'>, description=None, catch_exceptions=False, rendered_content=None, windows=None, batch_id=None, column='lease_commence_date', row_condition=None, condition_parser=None, min_value=1.0, max_value=2020.0, strict_min=False, strict_max=False)"
      ]
     },
     "execution_count": 16,
     "metadata": {},
     "output_type": "execute_result"
    }
   ],
   "source": [
    "suite.add_expectation(preset_expectation)"
   ]
  },
  {
   "cell_type": "markdown",
   "id": "44f93000-44af-404d-bb4a-3e656e6d6f33",
   "metadata": {},
   "source": [
    "now, to run our suite, we will go through the validation flow.\n",
    "\n",
    "See: https://docs.greatexpectations.io/docs/core/run_validations/create_a_validation_definition"
   ]
  },
  {
   "cell_type": "code",
   "execution_count": 17,
   "id": "c39973bd-6e76-401c-bd2c-c15babe84747",
   "metadata": {},
   "outputs": [],
   "source": [
    "definition_name = \"sctp_validation_definition\"\n",
    "validation_definition = gx.ValidationDefinition(\n",
    "    data=batch_definition, suite=suite, name=definition_name\n",
    ")"
   ]
  },
  {
   "cell_type": "code",
   "execution_count": 18,
   "id": "be941d44-8444-4a3d-9cb2-19ea2d482c14",
   "metadata": {},
   "outputs": [
    {
     "data": {
      "application/vnd.jupyter.widget-view+json": {
       "model_id": "655dc23948714fc2b1905f17303b4f9c",
       "version_major": 2,
       "version_minor": 0
      },
      "text/plain": [
       "Calculating Metrics:   0%|          | 0/4 [00:00<?, ?it/s]"
      ]
     },
     "metadata": {},
     "output_type": "display_data"
    }
   ],
   "source": [
    "validation_results = validation_definition.run()"
   ]
  },
  {
   "cell_type": "code",
   "execution_count": 19,
   "id": "31c65831-ea50-41bd-8c1a-4a256b649af8",
   "metadata": {},
   "outputs": [
    {
     "name": "stdout",
     "output_type": "stream",
     "text": [
      "{\n",
      "  \"success\": true,\n",
      "  \"results\": [\n",
      "    {\n",
      "      \"success\": true,\n",
      "      \"expectation_config\": {\n",
      "        \"type\": \"expect_column_max_to_be_between\",\n",
      "        \"kwargs\": {\n",
      "          \"batch_id\": \"resale_flat-resale_csv_files\",\n",
      "          \"column\": \"lease_commence_date\",\n",
      "          \"min_value\": 1.0,\n",
      "          \"max_value\": 2020.0\n",
      "        },\n",
      "        \"meta\": {},\n",
      "        \"id\": \"61ec4e75-b86d-4f85-9661-d519994c4daa\"\n",
      "      },\n",
      "      \"result\": {\n",
      "        \"observed_value\": 2019\n",
      "      },\n",
      "      \"meta\": {},\n",
      "      \"exception_info\": {\n",
      "        \"raised_exception\": false,\n",
      "        \"exception_traceback\": null,\n",
      "        \"exception_message\": null\n",
      "      }\n",
      "    }\n",
      "  ],\n",
      "  \"suite_name\": \"sctp_expectation_suite\",\n",
      "  \"suite_parameters\": {},\n",
      "  \"statistics\": {\n",
      "    \"evaluated_expectations\": 1,\n",
      "    \"successful_expectations\": 1,\n",
      "    \"unsuccessful_expectations\": 0,\n",
      "    \"success_percent\": 100.0\n",
      "  },\n",
      "  \"meta\": {\n",
      "    \"great_expectations_version\": \"1.4.1\",\n",
      "    \"batch_spec\": {\n",
      "      \"path\": \"data/resale_flat_201701_202306.csv\",\n",
      "      \"reader_method\": \"read_csv\",\n",
      "      \"reader_options\": {}\n",
      "    },\n",
      "    \"batch_markers\": {\n",
      "      \"ge_load_time\": \"20250820T072647.789637Z\",\n",
      "      \"pandas_data_fingerprint\": \"d1a5a87ece928fe011e00240065c5d88\"\n",
      "    },\n",
      "    \"active_batch_definition\": {\n",
      "      \"datasource_name\": \"resale_flat\",\n",
      "      \"data_connector_name\": \"fluent\",\n",
      "      \"data_asset_name\": \"resale_csv_files\",\n",
      "      \"batch_identifiers\": {\n",
      "        \"path\": \"resale_flat_201701_202306.csv\"\n",
      "      },\n",
      "      \"batching_regex\": \"(?P<path>resale_flat_201701_202306.csv$)\"\n",
      "    },\n",
      "    \"validation_id\": \"545725d3-cc37-4b7b-b582-51bbd3f09548\",\n",
      "    \"checkpoint_id\": null,\n",
      "    \"run_id\": {\n",
      "      \"run_name\": null,\n",
      "      \"run_time\": \"2025-08-20T15:26:48.186928+08:00\"\n",
      "    },\n",
      "    \"validation_time\": \"2025-08-20T07:26:48.186928+00:00\",\n",
      "    \"batch_parameters\": null\n",
      "  },\n",
      "  \"id\": null\n",
      "}\n"
     ]
    }
   ],
   "source": [
    "print(validation_results)"
   ]
  },
  {
   "cell_type": "markdown",
   "id": "8b19e60b-5f3b-47ad-bee4-d3de0e4b7790",
   "metadata": {},
   "source": [
    "# Checkpoint \n",
    "\n",
    "A Checkpoint executes one or more Validation Definitions and then performs a set of Actions based on the Validation Results each Validation Definition returns.\n",
    "\n"
   ]
  },
  {
   "cell_type": "markdown",
   "id": "84e91fcc-0d3f-48ed-b0e9-c3b3c7a48adb",
   "metadata": {},
   "source": [
    "# Bonus:"
   ]
  },
  {
   "cell_type": "markdown",
   "id": "e71f98a6-3480-4261-ae34-4a66c5cbbd38",
   "metadata": {},
   "source": [
    "It is better to directly map dataframe and use the great expectation framework"
   ]
  },
  {
   "cell_type": "markdown",
   "id": "66183bd8-fd5f-4b04-a038-39bde4896fde",
   "metadata": {},
   "source": [
    "In this example, let us try to use the other resale data."
   ]
  },
  {
   "cell_type": "code",
   "execution_count": 20,
   "id": "9bfa4dd3-3e2d-4228-9793-be683a5ea20e",
   "metadata": {},
   "outputs": [],
   "source": [
    "import pandas as pd\n",
    "import great_expectations as gx\n",
    "from great_expectations import expectations as gxe"
   ]
  },
  {
   "cell_type": "code",
   "execution_count": 21,
   "id": "c898e470-e3f3-4fff-9734-66dc753cbb83",
   "metadata": {},
   "outputs": [],
   "source": [
    "resale_data = pd.read_csv(\"data/resale_flat_202307.csv\")"
   ]
  },
  {
   "cell_type": "code",
   "execution_count": 22,
   "id": "f941e46e-3fb4-4d9b-ba8b-75d3c65648bb",
   "metadata": {},
   "outputs": [],
   "source": [
    "# https://docs.greatexpectations.io/docs/core/connect_to_data/dataframes/\n",
    "\n",
    "context = gx.get_context()\n",
    "\n",
    "data_source_name = \"resale_dataframe\"\n",
    "data_source = context.data_sources.add_pandas(name=data_source_name)\n",
    "\n",
    "# create asset\n",
    "data_asset_name = \"resale_202307_asset\"\n",
    "data_asset = data_source.add_dataframe_asset(name=data_asset_name)\n",
    "\n",
    "# create batch\n",
    "batch_definition_name = \"resale_flat_202307_dataframe\"\n",
    "batch_definition = data_asset.add_batch_definition_whole_dataframe(\n",
    "    batch_definition_name\n",
    ")"
   ]
  },
  {
   "cell_type": "code",
   "execution_count": 23,
   "id": "64a439d6-3ff7-4a9e-9449-656056051d72",
   "metadata": {},
   "outputs": [],
   "source": [
    "# get the data via batch\n",
    "batch_parameters = {\"dataframe\": resale_data}\n",
    "\n",
    "new_batch = batch_definition.get_batch(batch_parameters=batch_parameters)"
   ]
  },
  {
   "cell_type": "code",
   "execution_count": 24,
   "id": "2d9143ed-b7db-4d9d-8be6-3f6dbd8d91a4",
   "metadata": {
    "scrolled": true
   },
   "outputs": [
    {
     "data": {
      "application/vnd.jupyter.widget-view+json": {
       "model_id": "ba1f58f6ffda4bb19b6b4e0ca4e688bb",
       "version_major": 2,
       "version_minor": 0
      },
      "text/plain": [
       "Calculating Metrics:   0%|          | 0/1 [00:00<?, ?it/s]"
      ]
     },
     "metadata": {},
     "output_type": "display_data"
    },
    {
     "name": "stdout",
     "output_type": "stream",
     "text": [
      "     month        town flat_type block        street_name storey_range  \\\n",
      "0  2023-07  ANG MO KIO    2 ROOM   406  ANG MO KIO AVE 10     04 TO 06   \n",
      "1  2023-07  ANG MO KIO    3 ROOM  308B   ANG MO KIO AVE 1     19 TO 21   \n",
      "2  2023-07  ANG MO KIO    3 ROOM   462  ANG MO KIO AVE 10     01 TO 03   \n",
      "3  2023-07  ANG MO KIO    3 ROOM   462  ANG MO KIO AVE 10     10 TO 12   \n",
      "4  2023-07  ANG MO KIO    3 ROOM   540  ANG MO KIO AVE 10     01 TO 03   \n",
      "5  2023-07  ANG MO KIO    3 ROOM   466  ANG MO KIO AVE 10     10 TO 12   \n",
      "6  2023-07  ANG MO KIO    3 ROOM   560  ANG MO KIO AVE 10     07 TO 09   \n",
      "7  2023-07  ANG MO KIO    3 ROOM   313   ANG MO KIO AVE 3     01 TO 03   \n",
      "8  2023-07  ANG MO KIO    3 ROOM   328   ANG MO KIO AVE 3     07 TO 09   \n",
      "9  2023-07  ANG MO KIO    3 ROOM   610   ANG MO KIO AVE 4     07 TO 09   \n",
      "\n",
      "   floor_area_sqm      flat_model  lease_commence_date     remaining_lease  \\\n",
      "0            44.0        Improved                 1979  54 years 11 months   \n",
      "1            70.0         Model A                 2012  88 years 04 months   \n",
      "2            82.0  New Generation                 1980  55 years 08 months   \n",
      "3            68.0  New Generation                 1980  55 years 09 months   \n",
      "4            68.0  New Generation                 1981  56 years 07 months   \n",
      "5            67.0  New Generation                 1984  60 years 04 months   \n",
      "6            67.0  New Generation                 1980  55 years 08 months   \n",
      "7            73.0  New Generation                 1978  53 years 08 months   \n",
      "8            73.0  New Generation                 1978  54 years 03 months   \n",
      "9            68.0  New Generation                 1980  56 years 06 months   \n",
      "\n",
      "   resale_price  \n",
      "0      290000.0  \n",
      "1      560888.0  \n",
      "2      385000.0  \n",
      "3      398888.0  \n",
      "4      328000.0  \n",
      "5      386000.0  \n",
      "6      386000.0  \n",
      "7      388000.0  \n",
      "8      375000.0  \n",
      "9      371000.0  \n"
     ]
    }
   ],
   "source": [
    "print(new_batch.head(10))"
   ]
  },
  {
   "cell_type": "code",
   "execution_count": 25,
   "id": "f7f54293-0655-40ea-a1ee-6748b6f2dd93",
   "metadata": {},
   "outputs": [],
   "source": [
    "# we can create new expectations \n",
    "new_expectation = gx.expectations.ExpectColumnToExist(column=\"month\",column_index=0\n",
    ")"
   ]
  },
  {
   "cell_type": "code",
   "execution_count": 26,
   "id": "1368adb4-fbaf-47de-b509-6e2da7ac6928",
   "metadata": {},
   "outputs": [
    {
     "data": {
      "application/vnd.jupyter.widget-view+json": {
       "model_id": "d989feaebe1f45b7aced8d8b2d8e7929",
       "version_major": 2,
       "version_minor": 0
      },
      "text/plain": [
       "Calculating Metrics:   0%|          | 0/2 [00:00<?, ?it/s]"
      ]
     },
     "metadata": {},
     "output_type": "display_data"
    }
   ],
   "source": [
    "validation_results = new_batch.validate(new_expectation)"
   ]
  },
  {
   "cell_type": "code",
   "execution_count": 27,
   "id": "4f43fa90-e7b1-4be6-ba8d-ddbc5ebece2a",
   "metadata": {},
   "outputs": [
    {
     "name": "stdout",
     "output_type": "stream",
     "text": [
      "{\n",
      "  \"success\": true,\n",
      "  \"expectation_config\": {\n",
      "    \"type\": \"expect_column_to_exist\",\n",
      "    \"kwargs\": {\n",
      "      \"batch_id\": \"resale_dataframe-resale_202307_asset\",\n",
      "      \"column\": \"month\",\n",
      "      \"column_index\": 0\n",
      "    },\n",
      "    \"meta\": {}\n",
      "  },\n",
      "  \"result\": {},\n",
      "  \"meta\": {},\n",
      "  \"exception_info\": {\n",
      "    \"raised_exception\": false,\n",
      "    \"exception_traceback\": null,\n",
      "    \"exception_message\": null\n",
      "  }\n",
      "}\n"
     ]
    }
   ],
   "source": [
    "print(validation_results)"
   ]
  },
  {
   "cell_type": "markdown",
   "id": "21eb1bca-ba33-4f97-97be-921d4d8dd107",
   "metadata": {},
   "source": [
    "# Lastly, see expectations gallery for more examples!: https://greatexpectations.io/expectations/"
   ]
  },
  {
   "cell_type": "code",
   "execution_count": null,
   "id": "c79af04b-574b-4470-ad17-4c795068595b",
   "metadata": {},
   "outputs": [],
   "source": []
  }
 ],
 "metadata": {
  "kernelspec": {
   "display_name": "elt",
   "language": "python",
   "name": "python3"
  },
  "language_info": {
   "codemirror_mode": {
    "name": "ipython",
    "version": 3
   },
   "file_extension": ".py",
   "mimetype": "text/x-python",
   "name": "python",
   "nbconvert_exporter": "python",
   "pygments_lexer": "ipython3",
   "version": "3.10.18"
  }
 },
 "nbformat": 4,
 "nbformat_minor": 5
}
